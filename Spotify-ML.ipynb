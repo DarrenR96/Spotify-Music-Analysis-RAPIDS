{
 "cells": [
  {
   "cell_type": "markdown",
   "metadata": {},
   "source": [
    "# Analyzing Audio Features from Spotify\n",
    "\n",
    "Who doesn't like music? Let's try to analyze [spotify data](https://www.kaggle.com/tomigelo/spotify-audio-features) from kaggle. \n",
    "\n",
    "First of all let's import CUDF from the RAPIDS library to assit with checking out the data."
   ]
  },
  {
   "cell_type": "code",
   "execution_count": null,
   "metadata": {},
   "outputs": [],
   "source": [
    "# Libraries being used\n",
    "import cudf as cf"
   ]
  },
  {
   "cell_type": "markdown",
   "metadata": {},
   "source": [
    "### Initial Data overview\n",
    "Now unto loading the data into a GPU dataframe so we can run some basic analysis to evaluate what we're working with!"
   ]
  },
  {
   "cell_type": "code",
   "execution_count": null,
   "metadata": {},
   "outputs": [],
   "source": [
    "# Read CSV file into environment\n",
    "spotifyDF = cf.read_csv(\"data/SpotifyAudioFeaturesApril2019.csv\")\n",
    "\n",
    "# Display number of rows and column names\n",
    "print(\"Number of rows: \" + str(spotifyDF.shape[0]))\n",
    "print(\"Number of columns: \" + str(spotifyDF.shape[1]))\n",
    "\n",
    "# Display column names\n",
    "print(\"\\nColumn Names: \" + str(list(spotifyDF.columns)))\n",
    "\n",
    "# Display top 3 rows of data\n",
    "print(\"\\n\\nTop 3 Rows of data: \")\n",
    "print(spotifyDF.head(3))\n",
    "print(\"************************\")\n"
   ]
  },
  {
   "cell_type": "markdown",
   "metadata": {},
   "source": [
    "\n",
    "### Interpreting the initial output\n",
    "\n",
    "So we can see that the dataset has 130663 rows and 17 columns, with the columns representing not only track information such as song title and artist, but also actual acoustical features such as \"energy\", \"liveness\", \"acousticness\" and even \"danceability\"!\n",
    "\n",
    "Depending on the size of your display the top 3 rows of data may be displayed collapsed as there's many columns. However if we just evaluate the top row at index 0 we can see that each row displays information for one song... meaning that there are more than 130k songs in this dataset!\n",
    "\n",
    "### Most popular songs\n",
    "\n",
    "Let's see the top 10 most popular songs.\n",
    "\n",
    "*(Reminder that this dataset was created on April 2019, so songs will be popular around that time)*"
   ]
  },
  {
   "cell_type": "code",
   "execution_count": null,
   "metadata": {},
   "outputs": [],
   "source": [
    "# Top 10 songs sorted by popularity\n",
    "\n",
    "top10Songs = spotifyDF.sort_values('popularity', ascending=False).head(10)\n",
    "top10Songs"
   ]
  },
  {
   "cell_type": "markdown",
   "metadata": {},
   "source": [
    "With names like 'Daddy Yankee', 'Post Malone', 'Jonas Brothers', 'Billie Eilish' in the top 5 most popular songs, we can assume that everythings working thus far!\n",
    "\n",
    "### Predicting similar songs based on acoustical features\n",
    "\n",
    "Let's use the following features to find songs similar to ones we already know/like: \n",
    "\n",
    "* acousticness\n",
    "* danceability\n",
    "* energy\n",
    "* instrumentalness\n",
    "* liveness\n",
    "* loudness\n",
    "* speechiness\n",
    "* valence\n",
    "\n",
    "All the above features are continuous numerical values. We can use the K-Nearest Neighbors (K-NN) algorithm to find other songs with similar points to what we want. The KNN algorithm can be found in the cuML package in the RAPIDS library.\n",
    "\n",
    "*Note that we've left out some features like time-signature/tempo/popularity as while they are somewhat acoustical features (except popularity), I don't believe they convey necessary information for the task.*\n"
   ]
  },
  {
   "cell_type": "code",
   "execution_count": null,
   "metadata": {},
   "outputs": [],
   "source": [
    "# Import Libraries\n",
    "from cuml.neighbors import NearestNeighbors"
   ]
  },
  {
   "cell_type": "markdown",
   "metadata": {},
   "source": [
    "We'll use the indicies of the spotifyDF dataframe to use as the unique identifier for the songs. \n",
    "\n",
    "*Note we can also use the track_id column, but this calls for re-indexing the Dataframe*"
   ]
  },
  {
   "cell_type": "code",
   "execution_count": null,
   "metadata": {},
   "outputs": [],
   "source": [
    "nnDF = spotifyDF[['acousticness', 'danceability', 'energy', \\\n",
    "                 'instrumentalness', 'liveness', 'loudness', \\\n",
    "                 'speechiness', 'valence']]"
   ]
  },
  {
   "cell_type": "code",
   "execution_count": null,
   "metadata": {},
   "outputs": [],
   "source": [
    "# Extract only columns being used\n",
    "nnDF = spotifyDF[['acousticness', 'danceability', 'energy', \\\n",
    "                 'instrumentalness', 'liveness', 'loudness', \\\n",
    "                 'speechiness', 'valence']]\n",
    "\n",
    "# Create an song/artist DF to be used as a lookup\n",
    "artistDF = spotifyDF[['artist_name', 'track_name']]\n",
    "\n",
    "# Create NN Model\n",
    "nnSpotifyModel = NearestNeighbors()\n",
    "nnSpotifyModel = nnSpotifyModel.fit(nnDF)"
   ]
  },
  {
   "cell_type": "markdown",
   "metadata": {},
   "source": [
    "We know have a fit model 'nnSpotifyModel' that can be used to find the nearest neighbors of any song we want. \n",
    "\n",
    "Let's find songs similar to a song by 'John Mayer'.\n",
    "\n",
    "We need to: \n",
    "\n",
    "1. Find the index of John Mayer\n",
    "2. Extract the features associated with selected song\n",
    "3. Call kneighbors() on nnSpotifyModel with the extracted features"
   ]
  },
  {
   "cell_type": "code",
   "execution_count": null,
   "metadata": {},
   "outputs": [],
   "source": [
    "# Determine index #'s of John Mayer songs\n",
    "print(spotifyDF[spotifyDF['artist_name'] == 'John Mayer'][['artist_name','track_name']])"
   ]
  },
  {
   "cell_type": "code",
   "execution_count": null,
   "metadata": {},
   "outputs": [],
   "source": [
    "# Extracting Features of John Mayer - XO, at index #74564\n",
    "nnFeatures= nnDF[nnDF.index == 74564]\n",
    "nnFeatures"
   ]
  },
  {
   "cell_type": "code",
   "execution_count": null,
   "metadata": {},
   "outputs": [],
   "source": [
    "# Finding k-neighbors of song\n",
    "nnSpotifyModel.kneighbors(nnFeatures,k=3)"
   ]
  },
  {
   "cell_type": "code",
   "execution_count": null,
   "metadata": {},
   "outputs": [],
   "source": []
  }
 ],
 "metadata": {
  "kernelspec": {
   "display_name": "Python 3",
   "language": "python",
   "name": "python3"
  },
  "language_info": {
   "codemirror_mode": {
    "name": "ipython",
    "version": 3
   },
   "file_extension": ".py",
   "mimetype": "text/x-python",
   "name": "python",
   "nbconvert_exporter": "python",
   "pygments_lexer": "ipython3",
   "version": "3.6.7"
  }
 },
 "nbformat": 4,
 "nbformat_minor": 4
}
