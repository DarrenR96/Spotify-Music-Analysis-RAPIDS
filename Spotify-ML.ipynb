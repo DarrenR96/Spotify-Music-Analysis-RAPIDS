{
 "cells": [
  {
   "cell_type": "markdown",
   "metadata": {},
   "source": [
    "# Analyzing Audio Features from Spotify\n",
    "\n",
    "Who doesn't like music? Let's try to analyze [spotify data](https://www.kaggle.com/tomigelo/spotify-audio-features) from kaggle. \n",
    "\n",
    "First of all let's import CUDF from the RAPIDS library to assit with checking out the data."
   ]
  },
  {
   "cell_type": "code",
   "execution_count": 1,
   "metadata": {},
   "outputs": [],
   "source": [
    "# Libraries being used\n",
    "import cudf as cf"
   ]
  },
  {
   "cell_type": "markdown",
   "metadata": {},
   "source": [
    "### Intial Data overview\n",
    "Now unto loading the data into a GPU dataframe so we can run some basic analysis to evaluate what we're working with!"
   ]
  },
  {
   "cell_type": "code",
   "execution_count": 2,
   "metadata": {},
   "outputs": [
    {
     "name": "stdout",
     "output_type": "stream",
     "text": [
      "Number of rows: 130663\n",
      "Number of columns: 17\n",
      "\n",
      "Column Names: ['artist_name', 'track_id', 'track_name', 'acousticness', 'danceability', 'duration_ms', 'energy', 'instrumentalness', 'key', 'liveness', 'loudness', 'mode', 'speechiness', 'tempo', 'time_signature', 'valence', 'popularity']\n",
      "\n",
      "\n",
      "Top 3 Rows of data: \n",
      "  artist_name                track_id  \\\n",
      "0          YG  2RM4jf1Xa9zPgMGRDiht8O   \n",
      "1          YG  1tHDG53xJNGsItRA3vfVgs   \n",
      "2       R3HAB  6Wosx2euFPMT14UXiWudMy   \n",
      "\n",
      "                                       track_name  acousticness  danceability  \\\n",
      "0  Big Bank feat. 2 Chainz, Big Sean, Nicki Minaj       0.00582         0.743   \n",
      "1                    BAND DRUM (feat. A$AP Rocky)       0.02440         0.846   \n",
      "2                                   Radio Silence       0.02500         0.603   \n",
      "\n",
      "   duration_ms  energy  instrumentalness  key  liveness  loudness  mode  \\\n",
      "0       238373   0.339               0.0    1    0.0812    -7.678     1   \n",
      "1       214800   0.557               0.0    8    0.2860    -7.259     1   \n",
      "2       138913   0.723               0.0    9    0.0824    -5.890     0   \n",
      "\n",
      "   speechiness    tempo  time_signature  valence  popularity  \n",
      "0       0.4090  203.927               4    0.118          15  \n",
      "1       0.4570  159.009               4    0.371           0  \n",
      "2       0.0454  114.966               4    0.382          56  \n",
      "************************\n"
     ]
    }
   ],
   "source": [
    "# Read CSV file into environment\n",
    "spotifyDF = cf.read_csv(\"data/SpotifyAudioFeaturesApril2019.csv\")\n",
    "\n",
    "# Display number of rows and column names\n",
    "print(\"Number of rows: \" + str(spotifyDF.shape[0]))\n",
    "print(\"Number of columns: \" + str(spotifyDF.shape[1]))\n",
    "\n",
    "# Display column names\n",
    "print(\"\\nColumn Names: \" + str(list(spotifyDF.columns)))\n",
    "\n",
    "# Display top 3 rows of data\n",
    "print(\"\\n\\nTop 3 Rows of data: \")\n",
    "print(spotifyDF.head(3))\n",
    "print(\"************************\")\n"
   ]
  },
  {
   "cell_type": "markdown",
   "metadata": {},
   "source": [
    "\n",
    "### Interpreting the initial output\n",
    "\n",
    "So we can see that the dataset has 130663 rows and 17 columns, with the columns representing not only track information such as song title and artist, but also actual acoustical features such as \"energy\", \"liveness\", \"acousticness\" and even \"danceability\"!\n",
    "\n",
    "Depending on the size of your display the top 3 rows of data may be displayed collapsed as there's many columns. However if we just evaluate the top row at index 0 we can see that each row displays information for one song... meaning that there are more than 130k songs in this dataset!\n",
    "\n",
    "### Most popular songs\n",
    "\n",
    "Let's see the top 10 most popular songs.\n",
    "\n",
    "*(Reminder that this dataset was created on April 2019, so songs will be popular around that time)*"
   ]
  },
  {
   "cell_type": "code",
   "execution_count": null,
   "metadata": {},
   "outputs": [],
   "source": [
    "# Top 10 songs sorted by popularity\n",
    "\n",
    "top10Songs = spotifyDF.sort_values('popularity', ascending=False).head(10)\n",
    "top10Songs"
   ]
  },
  {
   "cell_type": "markdown",
   "metadata": {},
   "source": [
    "With names like 'Daddy Yankee', 'Post Malone', 'Jonas Brothers', 'Billie Eilish' in the top 5 most popular songs, we can assume that everythings working thus far!\n",
    "\n",
    "### Predicting similar songs based on acoustical features\n",
    "\n",
    "Let's use the following features to find songs similar to ones we already know/like: \n",
    "\n",
    "* acousticness\n",
    "* danceability\n",
    "* energy\n",
    "* instrumentalness\n",
    "* liveness\n",
    "* loudness\n",
    "* speechiness\n",
    "* valence\n",
    "\n",
    "All the above features are continuous numerical values. We can use the K-Nearest Neighbors (K-NN) algorithm to find other songs with similar points to what we want. The KNN algorithm can be found in the cuML package in the RAPIDS library.\n",
    "\n",
    "*Note that we've left out some features like time-signature/tempo/popularity as while they are somewhat acoustical features (except popularity), I don't believe they convey necessary information for the task.*\n"
   ]
  },
  {
   "cell_type": "code",
   "execution_count": null,
   "metadata": {},
   "outputs": [],
   "source": [
    "# Import Libraries\n",
    "from cuml.neighbors import NearestNeighbors"
   ]
  },
  {
   "cell_type": "markdown",
   "metadata": {},
   "source": [
    "We'll use the indicies of the spotifyDF dataframe to use as the unique identifier for the songs. \n",
    "\n",
    "*Note we can also use the track_id column, but this calls for re-indexing the Dataframe*"
   ]
  },
  {
   "cell_type": "code",
   "execution_count": null,
   "metadata": {},
   "outputs": [],
   "source": [
    "# Extract only columns being used\n",
    "nnDF = spotifyDF[['acousticness', 'danceability', 'energy', \\\n",
    "                 'instrumentalness', 'liveness', 'loudness', \\\n",
    "                 'speechiness', 'valence']]\n",
    "\n",
    "# Create an song/artist DF to be used as a lookup\n",
    "artistDF = spotifyDF[['artist_name', 'track_name']]\n",
    "\n",
    "# Create NN Model\n",
    "nnSpotifyModel = NearestNeighbors()\n",
    "nnSpotifyModel = nnSpotifyModel.fit(nnDF)\n",
    "\n",
    "# Lets find songs similar to John Mayer - XO\n",
    "print(spotifyDF[[spotifyDF['track_name'] == 'XO']])\n",
    "\n",
    "distances, indicies = nnSpotifyModel.kneighbors(,k=3)"
   ]
  },
  {
   "cell_type": "code",
   "execution_count": 8,
   "metadata": {},
   "outputs": [
    {
     "ename": "KeyError",
     "evalue": "False",
     "output_type": "error",
     "traceback": [
      "\u001b[0;31m---------------------------------------------------------------------------\u001b[0m",
      "\u001b[0;31mKeyError\u001b[0m                                  Traceback (most recent call last)",
      "\u001b[0;32m<ipython-input-8-d3cfe63b413c>\u001b[0m in \u001b[0;36m<module>\u001b[0;34m\u001b[0m\n\u001b[0;32m----> 1\u001b[0;31m \u001b[0mspotifyDF\u001b[0m\u001b[0;34m[\u001b[0m\u001b[0mspotifyDF\u001b[0m\u001b[0;34m[\u001b[0m\u001b[0;34m'artist_name'\u001b[0m\u001b[0;34m==\u001b[0m\u001b[0;34m'John Mayer'\u001b[0m\u001b[0;34m]\u001b[0m\u001b[0;34m]\u001b[0m\u001b[0;34m\u001b[0m\u001b[0;34m\u001b[0m\u001b[0m\n\u001b[0m",
      "\u001b[0;32m/opt/conda/envs/rapids/lib/python3.6/site-packages/cudf/core/dataframe.py\u001b[0m in \u001b[0;36m__getitem__\u001b[0;34m(self, arg)\u001b[0m\n\u001b[1;32m    323\u001b[0m             \u001b[0;32mreturn\u001b[0m \u001b[0mself\u001b[0m\u001b[0;34m.\u001b[0m\u001b[0mcolumns\u001b[0m\u001b[0;34m.\u001b[0m\u001b[0m_get_column_major\u001b[0m\u001b[0;34m(\u001b[0m\u001b[0mself\u001b[0m\u001b[0;34m,\u001b[0m \u001b[0marg\u001b[0m\u001b[0;34m)\u001b[0m\u001b[0;34m\u001b[0m\u001b[0;34m\u001b[0m\u001b[0m\n\u001b[1;32m    324\u001b[0m         \u001b[0;32mif\u001b[0m \u001b[0mis_scalar\u001b[0m\u001b[0;34m(\u001b[0m\u001b[0marg\u001b[0m\u001b[0;34m)\u001b[0m \u001b[0;32mor\u001b[0m \u001b[0misinstance\u001b[0m\u001b[0;34m(\u001b[0m\u001b[0marg\u001b[0m\u001b[0;34m,\u001b[0m \u001b[0mtuple\u001b[0m\u001b[0;34m)\u001b[0m\u001b[0;34m:\u001b[0m\u001b[0;34m\u001b[0m\u001b[0;34m\u001b[0m\u001b[0m\n\u001b[0;32m--> 325\u001b[0;31m             \u001b[0ms\u001b[0m \u001b[0;34m=\u001b[0m \u001b[0mself\u001b[0m\u001b[0;34m.\u001b[0m\u001b[0m_cols\u001b[0m\u001b[0;34m[\u001b[0m\u001b[0marg\u001b[0m\u001b[0;34m]\u001b[0m\u001b[0;34m\u001b[0m\u001b[0;34m\u001b[0m\u001b[0m\n\u001b[0m\u001b[1;32m    326\u001b[0m             \u001b[0ms\u001b[0m\u001b[0;34m.\u001b[0m\u001b[0mname\u001b[0m \u001b[0;34m=\u001b[0m \u001b[0marg\u001b[0m\u001b[0;34m\u001b[0m\u001b[0;34m\u001b[0m\u001b[0m\n\u001b[1;32m    327\u001b[0m             \u001b[0ms\u001b[0m\u001b[0;34m.\u001b[0m\u001b[0mindex\u001b[0m \u001b[0;34m=\u001b[0m \u001b[0mself\u001b[0m\u001b[0;34m.\u001b[0m\u001b[0mindex\u001b[0m\u001b[0;34m\u001b[0m\u001b[0;34m\u001b[0m\u001b[0m\n",
      "\u001b[0;31mKeyError\u001b[0m: False"
     ]
    }
   ],
   "source": [
    "spotifyDF[spotifyDF['artist_name'=='John Mayer']]"
   ]
  },
  {
   "cell_type": "code",
   "execution_count": null,
   "metadata": {},
   "outputs": [],
   "source": []
  }
 ],
 "metadata": {
  "kernelspec": {
   "display_name": "Python 3",
   "language": "python",
   "name": "python3"
  },
  "language_info": {
   "codemirror_mode": {
    "name": "ipython",
    "version": 3
   },
   "file_extension": ".py",
   "mimetype": "text/x-python",
   "name": "python",
   "nbconvert_exporter": "python",
   "pygments_lexer": "ipython3",
   "version": "3.6.7"
  }
 },
 "nbformat": 4,
 "nbformat_minor": 4
}
